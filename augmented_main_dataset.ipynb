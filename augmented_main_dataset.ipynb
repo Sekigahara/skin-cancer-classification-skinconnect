{
 "cells": [
  {
   "cell_type": "code",
   "execution_count": 2,
   "metadata": {},
   "outputs": [],
   "source": [
    "import os\n",
    "import cv2\n",
    "import glob\n",
    "import numpy as np\n",
    "import matplotlib.pyplot as plt"
   ]
  },
  {
   "cell_type": "code",
   "execution_count": 5,
   "metadata": {},
   "outputs": [],
   "source": [
    "train_folder_path = glob.glob(\"dataset/train/*\")\n",
    "test_folder_path = glob.glob(\"dataset/test/*\")"
   ]
  },
  {
   "cell_type": "code",
   "execution_count": 3,
   "metadata": {},
   "outputs": [
    {
     "name": "stdout",
     "output_type": "stream",
     "text": [
      "{'actinic keratosis': {'label': 0, 'abbreviation': 'akiec'}, 'basal cell carcinoma': {'label': 1, 'abbreviation': 'bcc'}, 'pigmented benign keratosis': {'label': 2, 'abbreviation': 'bkl'}, 'dermatofibroma': {'label': 3, 'abbreviation': 'df'}, 'melanoma': {'label': 4, 'abbreviation': 'mel'}, 'melanocytic nevus': {'label': 5, 'abbreviation': 'nv'}, 'vascular lesions': {'label': 6, 'abbreviation': 'vasc'}}\n"
     ]
    }
   ],
   "source": [
    "import json\n",
    "\n",
    "f = open(\"utils/label_encode.json\")\n",
    "\n",
    "label_map = json.load(f)\n",
    "print(label_map)\n",
    "\n",
    "f.close()"
   ]
  },
  {
   "cell_type": "code",
   "execution_count": 23,
   "metadata": {},
   "outputs": [],
   "source": [
    "from collections import Counter\n",
    "\n",
    "def get_image_by_path(folder_path, label_mapping):\n",
    "    def label_to_encode(label_name, label_mapping):\n",
    "        encode_label = 0\n",
    "        for keys in label_mapping.keys():\n",
    "            if label_name == keys:\n",
    "                encode_label = label_mapping[keys]['label']\n",
    "\n",
    "        return encode_label\n",
    "\n",
    "    images = []\n",
    "    labels = []\n",
    "\n",
    "    for idx, path in enumerate(folder_path):\n",
    "        # Load each specific image location\n",
    "        all_image_path = glob.glob(path + \"/*\")\n",
    "        # Extract label\n",
    "        # Fix path inconsistencies on windows\n",
    "        real_label = path.replace(\"\\\\\", \"/\").replace(\"//\", \"/\").split(\"/\")[2]\n",
    "        # Change label into encoded format\n",
    "        encode_label = label_to_encode(real_label, label_mapping)\n",
    "\n",
    "        # Loop through an array to load image\n",
    "        for idx2, img_path in enumerate(all_image_path):\n",
    "            # Load image\n",
    "            image = cv2.imread(img_path)\n",
    "            images.append(image)\n",
    "            labels.append(encode_label)\n",
    "        #print(all_image_path)\n",
    "\n",
    "    return np.array(images), np.array(labels)\n",
    "\n",
    "def check_class_ratio(data):\n",
    "    counter = Counter(data)\n",
    "    for k, v in counter.items():\n",
    "        per= v / len(data) * 100\n",
    "        print('Class=%d, n=%d (%.3f%%)' % (k, v, per))\n",
    "    print(\"Total Data : {}\".format(len(data)))"
   ]
  },
  {
   "cell_type": "code",
   "execution_count": 24,
   "metadata": {},
   "outputs": [],
   "source": [
    "x_train, y_train = [], []\n",
    "\n",
    "x_train, y_train = get_image_by_path(test_folder_path, label_map)"
   ]
  },
  {
   "cell_type": "code",
   "execution_count": 25,
   "metadata": {},
   "outputs": [
    {
     "name": "stdout",
     "output_type": "stream",
     "text": [
      "Class=0, n=229 (3.787%)\n",
      "Class=1, n=453 (7.491%)\n",
      "Class=3, n=113 (1.869%)\n",
      "Class=5, n=3539 (58.525%)\n",
      "Class=4, n=783 (12.949%)\n",
      "Class=2, n=788 (13.031%)\n",
      "Class=6, n=142 (2.348%)\n",
      "Total Data : 6047\n"
     ]
    }
   ],
   "source": [
    "check_class_ratio(y_train)"
   ]
  },
  {
   "cell_type": "code",
   "execution_count": 26,
   "metadata": {},
   "outputs": [],
   "source": [
    "import random\n",
    "\n",
    "def generate_random_combination(n_combination=2, first_group_length, second_group_length):\n",
    "    combination = []\n",
    "    \n",
    "    itr = 0\n",
    "    # Looping to generate n combination\n",
    "    # Only possible for 11 combination, if 11 combination has been fulfilled loop may go infinity\n",
    "    while itr < n_combination:\n",
    "        # Generate with range 0f 0-3 and 0-2\n",
    "        temp = [random.randrange(0, first_group_length + 1), random.randrange(0, second_group_length + 1)]\n",
    "        \n",
    "        # Avoid combination [0, 0]\n",
    "        if temp == [0, 0]:\n",
    "            continue\n",
    "        \n",
    "        # Assign for first iteration\n",
    "        if itr == 0:\n",
    "            combination.append(temp)\n",
    "            itr += 1\n",
    "        \n",
    "        # Assign for second and later iteration\n",
    "        if itr != 0:      \n",
    "            # Gather Information upwards/backward of array\n",
    "            isTheSame = False\n",
    "            for data in combination:\n",
    "                if data == temp:\n",
    "                    isTheSame = True\n",
    "                    break\n",
    "                    \n",
    "            # if no similiarity to backward array temp succesfully added\n",
    "            if isTheSame == False:\n",
    "                combination.append(temp)\n",
    "                itr += 1\n",
    "            else:\n",
    "                continue\n",
    "\n",
    "    return np.asarray(combination)"
   ]
  },
  {
   "cell_type": "code",
   "execution_count": null,
   "metadata": {},
   "outputs": [],
   "source": []
  }
 ],
 "metadata": {
  "interpreter": {
   "hash": "1069fb9fecde32c32151af3751afaec0cc07a01b159129d197401aef5112f8d6"
  },
  "kernelspec": {
   "display_name": "Python 3.8.12 64-bit (system)",
   "language": "python",
   "name": "python3"
  },
  "language_info": {
   "codemirror_mode": {
    "name": "ipython",
    "version": 3
   },
   "file_extension": ".py",
   "mimetype": "text/x-python",
   "name": "python",
   "nbconvert_exporter": "python",
   "pygments_lexer": "ipython3",
   "version": "3.8.12"
  },
  "orig_nbformat": 4
 },
 "nbformat": 4,
 "nbformat_minor": 2
}
